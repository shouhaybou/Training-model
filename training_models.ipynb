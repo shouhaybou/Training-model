{
 "cells": [
  {
   "cell_type": "markdown",
   "id": "a5c4d690",
   "metadata": {},
   "source": [
    "In this section we will learn how model are trained, and understand what's under the hood of these algorithms to debug issues and to perform error analysis more efficiently."
   ]
  },
  {
   "cell_type": "markdown",
   "id": "4a50109b",
   "metadata": {},
   "source": [
    "# Linear Regression\n",
    "let's generate some linear-looking data to test the normal equation.\n",
    "the normal equation is to minimize the cost function."
   ]
  },
  {
   "cell_type": "code",
   "execution_count": 1,
   "id": "ea68791a",
   "metadata": {},
   "outputs": [],
   "source": [
    "import numpy as np"
   ]
  },
  {
   "cell_type": "code",
   "execution_count": 2,
   "id": "eae2a347",
   "metadata": {},
   "outputs": [],
   "source": [
    "X = 2 * np.random.rand(100,1)\n",
    "y = 4 + 3 * X + np.random.randn(100,1)"
   ]
  },
  {
   "cell_type": "code",
   "execution_count": 3,
   "id": "527ebdf4",
   "metadata": {},
   "outputs": [],
   "source": [
    "# we will use the inv() function from numpy's linear algebra module (np.linalg) to compute the inverse\n",
    "# of a matrix, and the dot() method for matrix multiplication\n",
    "\n",
    "X_b = np.c_[np.ones((100,1)), X] # add x0 -1 to each instance\n",
    "theta_best = np.linalg.inv(X_b.T.dot(X_b)).dot(X_b.T).dot(y)"
   ]
  },
  {
   "cell_type": "markdown",
   "id": "9678ebff",
   "metadata": {},
   "source": [
    "that actual function that we used to generate the data is y = 4 + 3x1 + Gaussian noise.\n",
    "let's see below whta the equation found."
   ]
  },
  {
   "cell_type": "code",
   "execution_count": 4,
   "id": "ce156ee7",
   "metadata": {},
   "outputs": [
    {
     "data": {
      "text/plain": [
       "array([[4.20079377],\n",
       "       [2.93543283]])"
      ]
     },
     "execution_count": 4,
     "metadata": {},
     "output_type": "execute_result"
    }
   ],
   "source": [
    "theta_best"
   ]
  },
  {
   "cell_type": "markdown",
   "id": "49b5d86b",
   "metadata": {},
   "source": [
    "we would have hope for theta 0 = 4 and theta 1 = 3 instead of theta 0 = 4.215 and theta 1 = 2.770. close enough, but the noise made it impossible to recover the exact parameters of the origanl function."
   ]
  },
  {
   "cell_type": "markdown",
   "id": "effbe438",
   "metadata": {},
   "source": [
    "                                  ^\n",
    "now we can make predictions using 0"
   ]
  },
  {
   "cell_type": "code",
   "execution_count": 5,
   "id": "243d61eb",
   "metadata": {},
   "outputs": [
    {
     "data": {
      "text/plain": [
       "array([[ 4.20079377],\n",
       "       [10.07165943]])"
      ]
     },
     "execution_count": 5,
     "metadata": {},
     "output_type": "execute_result"
    }
   ],
   "source": [
    "X_new = np.array([[0], [2]])\n",
    "X_new_b = np.c_[np.ones((2,1)), X_new] # add x0 =1 to each instance\n",
    "y_predict = X_new_b.dot(theta_best)\n",
    "y_predict"
   ]
  },
  {
   "cell_type": "code",
   "execution_count": 6,
   "id": "0cab69b0",
   "metadata": {},
   "outputs": [
    {
     "data": {
      "image/png": "[encoded data removed]",
      "text/plain": [
       "<Figure size 640x480 with 1 Axes>"
      ]
     },
     "metadata": {},
     "output_type": "display_data"
    }
   ],
   "source": [
    "# let's plot this model's predictions\n",
    "import matplotlib.pyplot as plt\n",
    "plt.plot(X_new, y_predict, \"r-\", label=\"prediction\")\n",
    "plt.plot(X, y, \"b.\")\n",
    "plt.axis([0, 2, 0, 15])\n",
    "plt.xlabel('X1')\n",
    "plt.ylabel(\"y\")\n",
    "plt.legend(loc='upper left')\n",
    "plt.show()"
   ]
  },
  {
   "cell_type": "markdown",
   "id": "7180c519",
   "metadata": {},
   "source": [
    "# let's perform linear regression using Scikit-learn. it is quite simple."
   ]
  },
  {
   "cell_type": "code",
   "execution_count": 7,
   "id": "5d3692a6",
   "metadata": {},
   "outputs": [
    {
     "data": {
      "text/plain": [
       "LinearRegression()"
      ]
     },
     "execution_count": 7,
     "metadata": {},
     "output_type": "execute_result"
    }
   ],
   "source": [
    "from sklearn.linear_model import LinearRegression\n",
    "lin_reg = LinearRegression()\n",
    "lin_reg.fit(X, y)"
   ]
  },
  {
   "cell_type": "code",
   "execution_count": 8,
   "id": "dbb57b5d",
   "metadata": {},
   "outputs": [
    {
     "data": {
      "text/plain": [
       "(array([4.20079377]), array([[2.93543283]]))"
      ]
     },
     "execution_count": 8,
     "metadata": {},
     "output_type": "execute_result"
    }
   ],
   "source": [
    "lin_reg.intercept_, lin_reg.coef_"
   ]
  },
  {
   "cell_type": "code",
   "execution_count": 9,
   "id": "1c8e29bd",
   "metadata": {},
   "outputs": [
    {
     "data": {
      "text/plain": [
       "array([[ 4.20079377],\n",
       "       [10.07165943]])"
      ]
     },
     "execution_count": 9,
     "metadata": {},
     "output_type": "execute_result"
    }
   ],
   "source": [
    "lin_reg.predict(X_new)"
   ]
  },
  {
   "cell_type": "markdown",
   "id": "7cc96832",
   "metadata": {},
   "source": [
    "The LinearRegression class is based on the scipy.linalg.lstsq() function (the name stands for \"lest squares\"), which you could call directly:"
   ]
  },
  {
   "cell_type": "code",
   "execution_count": 10,
   "id": "5e458f17",
   "metadata": {},
   "outputs": [],
   "source": [
    "theta_best_svd, residuals, rank, s = np.linalg.lstsq(X_b, y, rcond=1e-6)"
   ]
  },
  {
   "cell_type": "code",
   "execution_count": 11,
   "id": "04f30747",
   "metadata": {},
   "outputs": [
    {
     "data": {
      "text/plain": [
       "array([[4.20079377],\n",
       "       [2.93543283]])"
      ]
     },
     "execution_count": 11,
     "metadata": {},
     "output_type": "execute_result"
    }
   ],
   "source": [
    "theta_best_svd"
   ]
  },
  {
   "cell_type": "code",
   "execution_count": 12,
   "id": "01dcec5e",
   "metadata": {},
   "outputs": [
    {
     "data": {
      "text/plain": [
       "array([[4.20079377],\n",
       "       [2.93543283]])"
      ]
     },
     "execution_count": 12,
     "metadata": {},
     "output_type": "execute_result"
    }
   ],
   "source": [
    "# let's compute the pseudoinverse\n",
    "np.linalg.pinv(X_b).dot(y)"
   ]
  },
  {
   "cell_type": "markdown",
   "id": "bac69bbf",
   "metadata": {},
   "source": [
    "let's look at a quick implementation of the gradient descent step algorithm"
   ]
  },
  {
   "cell_type": "code",
   "execution_count": 13,
   "id": "6f2512f5",
   "metadata": {},
   "outputs": [],
   "source": [
    "eta = 0.1 # learning rate"
   ]
  },
  {
   "cell_type": "code",
   "execution_count": 14,
   "id": "5190de95",
   "metadata": {},
   "outputs": [],
   "source": [
    "n_iterations = 1000"
   ]
  },
  {
   "cell_type": "code",
   "execution_count": 15,
   "id": "9a25a96e",
   "metadata": {},
   "outputs": [],
   "source": [
    "m = 100"
   ]
  },
  {
   "cell_type": "code",
   "execution_count": 16,
   "id": "fe076244",
   "metadata": {},
   "outputs": [],
   "source": [
    "theta = np.random.randn(2,1) #random initialization"
   ]
  },
  {
   "cell_type": "code",
   "execution_count": 17,
   "id": "86f3a991",
   "metadata": {},
   "outputs": [],
   "source": [
    "for iteration in range(n_iterations):\n",
    "    gradients = 2/m * X_b.T.dot(X_b.dot(theta) - y)\n",
    "    theta = theta - eta * gradients"
   ]
  },
  {
   "cell_type": "code",
   "execution_count": 18,
   "id": "dfe8e1af",
   "metadata": {},
   "outputs": [
    {
     "data": {
      "text/plain": [
       "array([[4.20079377],\n",
       "       [2.93543283]])"
      ]
     },
     "execution_count": 18,
     "metadata": {},
     "output_type": "execute_result"
    }
   ],
   "source": [
    "theta"
   ]
  },
  {
   "cell_type": "markdown",
   "id": "83b44164",
   "metadata": {},
   "source": [
    "# stochastic Gradient Descent\n",
    "This following code implements Stochastic Gradient Descent using a simple learning schedule.\n",
    "A learning schedule is the fucntion that determines the learning rate at each iteration"
   ]
  },
  {
   "cell_type": "code",
   "execution_count": 19,
   "id": "37dc2efd",
   "metadata": {},
   "outputs": [],
   "source": [
    "n_epochs = 50\n",
    "t0, t1 = 5, 50 #learning schedule hyperparameters\n",
    "\n",
    "def learning_schedule(t):\n",
    "    return t0 / (t + t1)\n",
    "\n",
    "theta = np.random.randn(2,1) #random initialization\n",
    "\n",
    "for epoch in range(n_epochs):\n",
    "    for i in range(m):\n",
    "        random_index = np.random.randint(m)\n",
    "        xi = X_b[random_index:random_index+1]\n",
    "        yi = y[random_index:random_index+1]\n",
    "        gradiens = 2 * xi.T.dot(xi.dot(theta) - yi)\n",
    "        eta = learning_schedule(epoch * m + i)\n",
    "        theta = theta - eta * gradients"
   ]
  },
  {
   "cell_type": "code",
   "execution_count": 20,
   "id": "c96b5895",
   "metadata": {},
   "outputs": [
    {
     "data": {
      "text/plain": [
       "array([[ 1.99775364],\n",
       "       [-0.65479998]])"
      ]
     },
     "execution_count": 20,
     "metadata": {},
     "output_type": "execute_result"
    }
   ],
   "source": [
    "theta"
   ]
  },
  {
   "cell_type": "markdown",
   "id": "b9d69432",
   "metadata": {},
   "source": [
    "since the instances are picked randomly, some instances may be picked several times per epoch while others may not be picked at all. \n",
    "if we want to be sure that the algorithm goes through every instances at aech epoch, another approach is to shuffle the training set."
   ]
  },
  {
   "cell_type": "code",
   "execution_count": 21,
   "id": "fb94846c",
   "metadata": {},
   "outputs": [
    {
     "data": {
      "text/plain": [
       "SGDRegressor(eta0=0.1, penalty=None)"
      ]
     },
     "execution_count": 21,
     "metadata": {},
     "output_type": "execute_result"
    }
   ],
   "source": [
    "from sklearn.linear_model import SGDRegressor\n",
    "sgd_reg = SGDRegressor(max_iter=1000, tol=1e-3, penalty=None, eta0=0.1)\n",
    "sgd_reg.fit(X, y.ravel())"
   ]
  },
  {
   "cell_type": "code",
   "execution_count": 22,
   "id": "a89aa3d2",
   "metadata": {},
   "outputs": [
    {
     "data": {
      "text/plain": [
       "(array([4.15173558]), array([2.93661275]))"
      ]
     },
     "execution_count": 22,
     "metadata": {},
     "output_type": "execute_result"
    }
   ],
   "source": [
    "sgd_reg.intercept_, sgd_reg.coef_"
   ]
  },
  {
   "cell_type": "markdown",
   "id": "7bc97920",
   "metadata": {},
   "source": [
    "# Mini-batch Gradient Descent\n",
    "Instead of computing the gradients based on the full training set as in Batch GD or based on just one instance as in Stochastic GD, Mini-batch GD computes the gradient on small random sets of instances called mini-batches.\n",
    "\n",
    "the main advantages of Mini-batch GD is that we canget a performance boost from hardware optimization of matrix operations, especially when using GPUS."
   ]
  },
  {
   "cell_type": "markdown",
   "id": "501efc3b",
   "metadata": {},
   "source": [
    "# Polynomial Regression\n",
    "we can use poynomial regression if our data is more complex than a simple straight line. we can use a linear model to fit nonlinear data.\n",
    "the technique to do it is to add powers of each feature as new features, then train a linear model on this extended set of features."
   ]
  },
  {
   "cell_type": "code",
   "execution_count": 23,
   "id": "51f20913",
   "metadata": {},
   "outputs": [],
   "source": [
    "# let's generate some nonlinear data\n",
    "m = 100\n",
    "X = 6 * np.random.rand(m,1) - 3\n",
    "y= 0.5 * X + 2 + np.random.randn(m,1)"
   ]
  },
  {
   "cell_type": "code",
   "execution_count": 24,
   "id": "5fed8eb6",
   "metadata": {},
   "outputs": [
    {
     "data": {
      "image/png": "[encoded data removed]",
      "text/plain": [
       "<Figure size 640x480 with 1 Axes>"
      ]
     },
     "metadata": {},
     "output_type": "display_data"
    }
   ],
   "source": [
    "plt.plot(X, y, \"b.\")\n",
    "plt.xlabel('X')\n",
    "plt.ylabel('y')\n",
    "plt.show()"
   ]
  },
  {
   "cell_type": "markdown",
   "id": "bdb556bd",
   "metadata": {},
   "source": [
    "clearly, a straight line will never fit this data properly. So let's use scikit-learns's polynomialfeatures class to transform our training data, adding the square (2nd degree polynomial) of each feature in the training set as new features."
   ]
  },
  {
   "cell_type": "code",
   "execution_count": 25,
   "id": "9d27df67",
   "metadata": {},
   "outputs": [],
   "source": [
    "from sklearn.preprocessing import PolynomialFeatures"
   ]
  },
  {
   "cell_type": "code",
   "execution_count": 26,
   "id": "0f1194ed",
   "metadata": {},
   "outputs": [],
   "source": [
    "poly_features = PolynomialFeatures(degree=2, include_bias=False)"
   ]
  },
  {
   "cell_type": "code",
   "execution_count": 27,
   "id": "5e6b41c5",
   "metadata": {},
   "outputs": [],
   "source": [
    "X_poly = poly_features.fit_transform(X)"
   ]
  },
  {
   "cell_type": "code",
   "execution_count": 28,
   "id": "59d6658d",
   "metadata": {},
   "outputs": [
    {
     "data": {
      "text/plain": [
       "array([-0.71811114])"
      ]
     },
     "execution_count": 28,
     "metadata": {},
     "output_type": "execute_result"
    }
   ],
   "source": [
    "X[0]"
   ]
  },
  {
   "cell_type": "code",
   "execution_count": 29,
   "id": "2c03c976",
   "metadata": {},
   "outputs": [
    {
     "data": {
      "text/plain": [
       "array([-0.71811114,  0.5156836 ])"
      ]
     },
     "execution_count": 29,
     "metadata": {},
     "output_type": "execute_result"
    }
   ],
   "source": [
    "X_poly[0]"
   ]
  },
  {
   "cell_type": "markdown",
   "id": "ddb12ba5",
   "metadata": {},
   "source": [
    "X_poly now contains the original feature of X plus the square of this feature. Now we can fit the LinearRegression model to this extended training data"
   ]
  },
  {
   "cell_type": "code",
   "execution_count": 30,
   "id": "969e2b62",
   "metadata": {},
   "outputs": [],
   "source": [
    "lin_reg = LinearRegression()"
   ]
  },
  {
   "cell_type": "code",
   "execution_count": 31,
   "id": "06b86d7d",
   "metadata": {},
   "outputs": [
    {
     "data": {
      "text/plain": [
       "LinearRegression()"
      ]
     },
     "execution_count": 31,
     "metadata": {},
     "output_type": "execute_result"
    }
   ],
   "source": [
    "lin_reg.fit(X_poly, y)"
   ]
  },
  {
   "cell_type": "code",
   "execution_count": 32,
   "id": "447a7a17",
   "metadata": {
    "scrolled": true
   },
   "outputs": [
    {
     "data": {
      "text/plain": [
       "(array([1.90558921]), array([[0.53664397, 0.00279205]]))"
      ]
     },
     "execution_count": 32,
     "metadata": {},
     "output_type": "execute_result"
    }
   ],
   "source": [
    "lin_reg.intercept_, lin_reg.coef_"
   ]
  },
  {
   "cell_type": "code",
   "execution_count": 33,
   "id": "cc8589cb",
   "metadata": {},
   "outputs": [],
   "source": [
    "y_pred = lin_reg.predict(X_poly)"
   ]
  },
  {
   "cell_type": "code",
   "execution_count": 34,
   "id": "4c6bd60e",
   "metadata": {},
   "outputs": [
    {
     "data": {
      "text/plain": [
       "<matplotlib.legend.Legend at 0x1a77987bd60>"
      ]
     },
     "execution_count": 34,
     "metadata": {},
     "output_type": "execute_result"
    },
    {
     "data": {
      "image/png": "[encoded data removed]",
      "text/plain": [
       "<Figure size 640x480 with 1 Axes>"
      ]
     },
     "metadata": {},
     "output_type": "display_data"
    }
   ],
   "source": [
    "plt.plot(X_poly[:,0], y_pred, \"r-\", label=\"predictions\")\n",
    "plt.plot(X, y, 'b.')\n",
    "plt.xlabel('X')\n",
    "plt.ylabel('y')\n",
    "plt.legend(loc=\"upper left\")"
   ]
  },
  {
   "cell_type": "markdown",
   "id": "63fbb2fa",
   "metadata": {},
   "source": [
    "we can use cross-validation to get an estimate of a models generalization performance.\n",
    "-if a model perform well on the training data but generalizes poorly according to the cross-validation metrics, then our model is overfitting.\n",
    "-if it performs poorly on both, then it is underfitting."
   ]
  },
  {
   "cell_type": "markdown",
   "id": "2cbb974d",
   "metadata": {},
   "source": [
    "Another way at the performance is the learning curves."
   ]
  },
  {
   "cell_type": "code",
   "execution_count": 35,
   "id": "3cc3eb33",
   "metadata": {},
   "outputs": [],
   "source": [
    "from sklearn.metrics import mean_squared_error\n",
    "from sklearn.model_selection import train_test_split"
   ]
  },
  {
   "cell_type": "code",
   "execution_count": 36,
   "id": "6446c007",
   "metadata": {},
   "outputs": [],
   "source": [
    "def plot_learning_curves(model, X, y):\n",
    "    X_train, X_val, y_train, y_val = train_test_split(X, y, test_size=0.2)\n",
    "    train_errors, val_errors = [], []\n",
    "    for m in range(1, len(X_train)):\n",
    "        model.fit(X_train[:m], y_train[:m])\n",
    "        y_train_predict = model.predict(X_train[:m])\n",
    "        y_val_predict = model.predict(X_val)\n",
    "        train_errors.append(mean_squared_error(y_train[:m], y_train_predict))\n",
    "        val_errors.append(mean_squared_error(y_val, y_val_predict))\n",
    "    plt.plot(np.sqrt(train_errors), \"r-+\", linewidth=2, label='train')\n",
    "    plt.plot(np.sqrt(val_errors), \"b-\", linewidth=3, label='val')\n",
    "    plt.xlabel(\"Training Set Size\")\n",
    "    plt.ylabel(\"RMSE\")\n",
    "    plt.legend(loc='upper right')"
   ]
  },
  {
   "cell_type": "code",
   "execution_count": 37,
   "id": "850421e9",
   "metadata": {},
   "outputs": [
    {
     "data": {
      "image/png": "[encoded data removed]",
      "text/plain": [
       "<Figure size 640x480 with 1 Axes>"
      ]
     },
     "metadata": {},
     "output_type": "display_data"
    }
   ],
   "source": [
    "# let's look at the learning curves of the plain Linear Regression model(a straight line)\n",
    "lin_reg = LinearRegression()\n",
    "plot_learning_curves(lin_reg, X, y)"
   ]
  },
  {
   "cell_type": "markdown",
   "id": "1593fe18",
   "metadata": {},
   "source": [
    "Theselearning curves are typical of an underfitting model. Both curves have reached a plateau; they are close and fairly high."
   ]
  },
  {
   "cell_type": "markdown",
   "id": "a9458a60",
   "metadata": {},
   "source": [
    "Now let's look at the learning curves of a 10th degree polynomial model on the same data"
   ]
  },
  {
   "cell_type": "code",
   "execution_count": 38,
   "id": "c738e163",
   "metadata": {},
   "outputs": [
    {
     "data": {
      "image/png": "[encoded data removed]",
      "text/plain": [
       "<Figure size 640x480 with 1 Axes>"
      ]
     },
     "metadata": {},
     "output_type": "display_data"
    }
   ],
   "source": [
    "from sklearn.pipeline import Pipeline\n",
    "\n",
    "polynomial_regression = Pipeline([\n",
    "    ('poly_features', PolynomialFeatures(degree=10, include_bias=False)),\n",
    "    ('lin_reg', LinearRegression())\n",
    "])\n",
    "\n",
    "plot_learning_curves(polynomial_regression, X, y)"
   ]
  },
  {
   "cell_type": "markdown",
   "id": "35a820ec",
   "metadata": {},
   "source": [
    "# Ridge regression\n",
    "Ridge Regression is a regularized version of Linear Regression. it is used to reduce overfitting.\n",
    "this algorithm is not just only fitting the data but also keep the model weights as small as possible"
   ]
  },
  {
   "cell_type": "code",
   "execution_count": 39,
   "id": "1aade37b",
   "metadata": {},
   "outputs": [
    {
     "data": {
      "text/plain": [
       "array([[2.71731906]])"
      ]
     },
     "execution_count": 39,
     "metadata": {},
     "output_type": "execute_result"
    }
   ],
   "source": [
    "# let's perform The Ridge Regression\n",
    "from sklearn.linear_model import Ridge\n",
    "ridge_reg = Ridge(alpha=1, solver='cholesky')\n",
    "ridge_reg.fit(X, y)\n",
    "ridge_reg.predict([[1.5]])\n"
   ]
  },
  {
   "cell_type": "code",
   "execution_count": 40,
   "id": "cb9add5b",
   "metadata": {},
   "outputs": [
    {
     "data": {
      "text/plain": [
       "array([2.68995984])"
      ]
     },
     "execution_count": 40,
     "metadata": {},
     "output_type": "execute_result"
    }
   ],
   "source": [
    "# let's use Stochastic Gradient Descent\n",
    "sgd_reg = SGDRegressor(penalty='l2') # l2 indicate that we want to SGD to add a regularization term to\n",
    "                                    #the cost function equal to half the square of l2 norm of the \n",
    "                                    # weight vector\n",
    "sgd_reg.fit(X, y.ravel())\n",
    "sgd_reg.predict([[1.5]])"
   ]
  },
  {
   "cell_type": "markdown",
   "id": "d4269467",
   "metadata": {},
   "source": [
    "# Lasso Regression \n",
    "Least Absolute shrinkage and selection Operator Regression. it is also another regularized version of \n",
    "Linear Regression. it adds a regularization term to the cost fucntion, but it uses the l1 norm\n",
    "of the weight vector instead of half the square of l2 norm.\n",
    "\n",
    "it tends to eliminate completely the weights of the least important feature"
   ]
  },
  {
   "cell_type": "code",
   "execution_count": 41,
   "id": "0a2b5ed1",
   "metadata": {},
   "outputs": [
    {
     "data": {
      "text/plain": [
       "array([2.67522572])"
      ]
     },
     "execution_count": 41,
     "metadata": {},
     "output_type": "execute_result"
    }
   ],
   "source": [
    "# let's perform Lasso Regression \n",
    "from sklearn.linear_model import Lasso\n",
    "lasso_reg = Lasso(alpha=0.1)\n",
    "lasso_reg.fit(X, y)\n",
    "lasso_reg.predict([[1.5]])"
   ]
  },
  {
   "cell_type": "markdown",
   "id": "eec265af",
   "metadata": {},
   "source": [
    "# Elastic Net\n",
    "it is a middle ground between Ridge Regression and Lassa Regression. The regularization term is a simple mix of both Ridge and Lasso's regularization terms and we can control the mix ratio.\n",
    "when r = 0, Elastic Net is equivalent to Ridge Regression and when r = 1, it is equivalent to Lasso Regression. this regression also tend to reduce the useless features' weights down to zero."
   ]
  },
  {
   "cell_type": "code",
   "execution_count": 42,
   "id": "f7c21edf",
   "metadata": {},
   "outputs": [
    {
     "data": {
      "text/plain": [
       "array([2.68604815])"
      ]
     },
     "execution_count": 42,
     "metadata": {},
     "output_type": "execute_result"
    }
   ],
   "source": [
    "# let's perform ElasticNet Regression\n",
    "from sklearn.linear_model import ElasticNet\n",
    "elastic_net = ElasticNet(alpha = 0.1, l1_ratio=0.5)\n",
    "elastic_net.fit(X,y)\n",
    "elastic_net.predict([[1.5]])"
   ]
  },
  {
   "cell_type": "markdown",
   "id": "fc572478",
   "metadata": {},
   "source": [
    "# Early Stopping\n",
    "it is a different way to regularize iterative learning algorithms such as Gradient Descent is to stop training as soon as the validation error reaches a minimum. for this algorithm we use Batch Gradient Descent instead of SGD or Mini-batch Gradient Descent."
   ]
  },
  {
   "cell_type": "markdown",
   "id": "e381aa8f",
   "metadata": {},
   "source": [
    "# let's implement early stopping algorithm\n",
    "\n",
    "from sklearn.base import clone\n",
    "from sklearn.preprocessing import StandardScaler\n",
    "\n",
    "#prepare the data\n",
    "poly_scaler = Pipeline([\n",
    "    ('poly_features', PolynomialFeatures(degree = 90, include_bias=False)),\n",
    "    ('std_scaler', StandardScaler())\n",
    "])\n",
    "X_train, X_val, y_train, y_val = train_test_split(X, y, test_size=0.2)\n",
    "\n",
    "X_train_poly_scaled = poly_scaler.fit_transform(X_train)\n",
    "X_val_poly_scaled = poly_scaler.transform(X_val)\n",
    "\n",
    "sgd_reg = SGDRegressor(max_iter=1, tol=-np.infty, warm_start=True,\n",
    "                      penalty=None, learning_rate='constant', eta0=0.0005)\n",
    "minimum_val_error = float('inf')\n",
    "best_epoch = None\n",
    "best_model = None\n",
    "for epoch in range(1000):\n",
    "    sgd_reg.fit(X_train_poly_scaled, y_train) # continues where it left off\n",
    "    y_val_predict = sgd_reg.predict(X_val_poly_scaled)\n",
    "    val_error = mean_squared_error(y_val, y_val_predict)\n",
    "    if val_error < minimum_val_error:\n",
    "        minimum_val_error = val_error\n",
    "        best_epoch = epoch\n",
    "        best_model = clone(sgd_reg)\n",
    "    \n",
    "### I have markedowned it because it's giving me warning and it takes the entire page but the code\n",
    "### is code "
   ]
  },
  {
   "cell_type": "markdown",
   "id": "0917e4db",
   "metadata": {},
   "source": [
    "# Logisitc Regression\n",
    "Let's build a classifier to detect the Iris-Virginica type based only on the petal width feature."
   ]
  },
  {
   "cell_type": "code",
   "execution_count": 43,
   "id": "8b3f6a96",
   "metadata": {},
   "outputs": [
    {
     "data": {
      "text/plain": [
       "['data',\n",
       " 'target',\n",
       " 'frame',\n",
       " 'target_names',\n",
       " 'DESCR',\n",
       " 'feature_names',\n",
       " 'filename',\n",
       " 'data_module']"
      ]
     },
     "execution_count": 43,
     "metadata": {},
     "output_type": "execute_result"
    }
   ],
   "source": [
    "# let's load the data\n",
    "from sklearn import datasets\n",
    "iris = datasets.load_iris()\n",
    "list(iris.keys())"
   ]
  },
  {
   "cell_type": "code",
   "execution_count": 44,
   "id": "52a03c70",
   "metadata": {},
   "outputs": [
    {
     "name": "stderr",
     "output_type": "stream",
     "text": [
      "C:\\Users\\User\\AppData\\Local\\Temp\\ipykernel_20980\\426377148.py:2: DeprecationWarning: `np.int` is a deprecated alias for the builtin `int`. To silence this warning, use `int` by itself. Doing this will not modify any behavior and is safe. When replacing `np.int`, you may wish to use e.g. `np.int64` or `np.int32` to specify the precision. If you wish to review your current use, check the release note link for additional information.\n",
      "Deprecated in NumPy 1.20; for more details and guidance: https://numpy.org/devdocs/release/1.20.0-notes.html#deprecations\n",
      "  y = (iris['target']==2).astype(np.int) # 1 if iris-virginicia, else= 0\n"
     ]
    }
   ],
   "source": [
    "X = iris['data'][:, 3:] #petal width\n",
    "y = (iris['target']==2).astype(np.int) # 1 if iris-virginicia, else= 0"
   ]
  },
  {
   "cell_type": "code",
   "execution_count": 45,
   "id": "efaafa43",
   "metadata": {},
   "outputs": [
    {
     "data": {
      "text/plain": [
       "LogisticRegression()"
      ]
     },
     "execution_count": 45,
     "metadata": {},
     "output_type": "execute_result"
    }
   ],
   "source": [
    "# let's train a the logistic regression model\n",
    "from sklearn.linear_model import LogisticRegression\n",
    "log_reg  = LogisticRegression()\n",
    "log_reg.fit(X,y)"
   ]
  },
  {
   "cell_type": "markdown",
   "id": "8f8bd7e6",
   "metadata": {},
   "source": [
    "let's look at the model's estimated probabilities for flowers with petal widths varying from 0 to 3cm"
   ]
  },
  {
   "cell_type": "code",
   "execution_count": 46,
   "id": "adc281f8",
   "metadata": {},
   "outputs": [
    {
     "data": {
      "text/plain": [
       "[<matplotlib.lines.Line2D at 0x1a779b6eeb0>]"
      ]
     },
     "execution_count": 46,
     "metadata": {},
     "output_type": "execute_result"
    },
    {
     "data": {
      "image/png": "[encoded data removed]",
      "text/plain": [
       "<Figure size 640x480 with 1 Axes>"
      ]
     },
     "metadata": {},
     "output_type": "display_data"
    }
   ],
   "source": [
    "X_new = np.linspace(0, 3, 1000).reshape(-1,1)\n",
    "y_proba = log_reg.predict_proba(X_new)\n",
    "plt.plot(X_new, y_proba[:,1], \"g-\", label='Iris-Virginica')"
   ]
  },
  {
   "cell_type": "code",
   "execution_count": 47,
   "id": "5686a2f1",
   "metadata": {},
   "outputs": [
    {
     "data": {
      "text/plain": [
       "<matplotlib.legend.Legend at 0x1a77997d130>"
      ]
     },
     "execution_count": 47,
     "metadata": {},
     "output_type": "execute_result"
    },
    {
     "data": {
      "image/png": "[encoded data removed]",
      "text/plain": [
       "<Figure size 640x480 with 1 Axes>"
      ]
     },
     "metadata": {},
     "output_type": "display_data"
    }
   ],
   "source": [
    "plt.plot(X_new, y_proba[:,1], \"g-\", label='Iris-Virginica')\n",
    "plt.plot(X_new, y_proba[:,0], 'b--', label=\"Not Iris-virginica\")\n",
    "plt.xlabel('Petal Width (cm)')\n",
    "plt.ylabel('Probabilities')\n",
    "plt.legend()\n",
    "# + more matplotlib code to make the image look pretty"
   ]
  },
  {
   "cell_type": "code",
   "execution_count": 48,
   "id": "e3cef0d6",
   "metadata": {},
   "outputs": [
    {
     "data": {
      "text/plain": [
       "array([1, 0])"
      ]
     },
     "execution_count": 48,
     "metadata": {},
     "output_type": "execute_result"
    }
   ],
   "source": [
    "log_reg.predict([[1.7], [1.5]])"
   ]
  },
  {
   "cell_type": "markdown",
   "id": "cd2c3681",
   "metadata": {},
   "source": [
    "# Softmax Regression\n",
    "the logistic regression model can be generalized to support multiple classes deirectly, without having to train and combine multiple binary classifiers.it is also called Multinomial Logistic Regression.\n",
    "the softmax function computes the exponential of every score then normalizes them(dividing by the sum of all the exponentials).the score are generally called logits or log-odds"
   ]
  },
  {
   "cell_type": "code",
   "execution_count": 49,
   "id": "0519e8ad",
   "metadata": {},
   "outputs": [],
   "source": [
    "# let's use the iris dataset to implement softmax regression\n",
    "X = iris['data'][:, (2,3)] # pedal length, pedal width\n",
    "y = iris['target']"
   ]
  },
  {
   "cell_type": "code",
   "execution_count": 50,
   "id": "572e0cc7",
   "metadata": {},
   "outputs": [
    {
     "data": {
      "text/plain": [
       "LogisticRegression(C=10, multi_class='multinomial')"
      ]
     },
     "execution_count": 50,
     "metadata": {},
     "output_type": "execute_result"
    }
   ],
   "source": [
    "softmax_reg = LogisticRegression(multi_class='multinomial', solver='lbfgs', C=10)\n",
    "softmax_reg.fit(X,y)"
   ]
  },
  {
   "cell_type": "code",
   "execution_count": 51,
   "id": "8c58c4cc",
   "metadata": {},
   "outputs": [
    {
     "data": {
      "text/plain": [
       "array([2])"
      ]
     },
     "execution_count": 51,
     "metadata": {},
     "output_type": "execute_result"
    }
   ],
   "source": [
    "softmax_reg.predict([[5,2]])"
   ]
  },
  {
   "cell_type": "markdown",
   "id": "a0456f96",
   "metadata": {},
   "source": [
    "we see that the answer is class 2 that means it is Iris-Vriginica"
   ]
  },
  {
   "cell_type": "code",
   "execution_count": 52,
   "id": "900a9d05",
   "metadata": {},
   "outputs": [
    {
     "data": {
      "text/plain": [
       "array([[6.38014896e-07, 5.74929995e-02, 9.42506362e-01]])"
      ]
     },
     "execution_count": 52,
     "metadata": {},
     "output_type": "execute_result"
    }
   ],
   "source": [
    "softmax_reg.predict_proba([[5,2]])"
   ]
  },
  {
   "cell_type": "code",
   "execution_count": null,
   "id": "a143cf86",
   "metadata": {},
   "outputs": [],
   "source": []
  }
 ],
 "metadata": {
  "kernelspec": {
   "display_name": "Python 3 (ipykernel)",
   "language": "python",
   "name": "python3"
  },
  "language_info": {
   "codemirror_mode": {
    "name": "ipython",
    "version": 3
   },
   "file_extension": ".py",
   "mimetype": "text/x-python",
   "name": "python",
   "nbconvert_exporter": "python",
   "pygments_lexer": "ipython3",
   "version": "3.9.12"
  }
 },
 "nbformat": 4,
 "nbformat_minor": 5
}
